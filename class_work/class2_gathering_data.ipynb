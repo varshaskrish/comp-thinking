{
 "cells": [
  {
   "cell_type": "markdown",
   "id": "01f426df",
   "metadata": {},
   "source": [
    "# Class 2 -- Gathering Data and Cleaning\n",
    "\n",
    "____\n",
    "### 1.0 Initalize and prep files"
   ]
  },
  {
   "cell_type": "code",
   "execution_count": 12,
   "id": "44d18da1",
   "metadata": {},
   "outputs": [
    {
     "data": {
      "text/plain": [
       "'/Users/Varsha/GitHub/comp-thinking'"
      ]
     },
     "execution_count": 12,
     "metadata": {},
     "output_type": "execute_result"
    }
   ],
   "source": [
    "import os\n",
    "import pandas as pd\n",
    "import xlrd\n",
    "import openpyxl\n",
    "\n",
    "#os.getcwd()\n",
    "#!pip show pandas"
   ]
  },
  {
   "cell_type": "code",
   "execution_count": 2,
   "id": "e54410b6",
   "metadata": {},
   "outputs": [],
   "source": [
    "cloudLocation_AllMyFiles = 'https://github.com/varshaskrish/comp-thinking/raw/main/HSB_files/'\n",
    "\n",
    "linkToSTATA_File=cloudLocation_AllMyFiles+'hsb_ok.dta' # '+' concatenates text.\n",
    "linkToSPSS_File=cloudLocation_AllMyFiles+'hsb_ok.sav'\n",
    "linkToEXCEL_File=cloudLocation_AllMyFiles+'hsb_ok.xlsx'"
   ]
  },
  {
   "cell_type": "markdown",
   "id": "8a2a5d4c",
   "metadata": {},
   "source": [
    "### 1.1 Reading data from STATA and EXCEL:"
   ]
  },
  {
   "cell_type": "code",
   "execution_count": 5,
   "id": "62c78704",
   "metadata": {},
   "outputs": [],
   "source": [
    "# read in stata and excel file \n",
    "\n",
    "dfStata=pd.read_stata(linkToSTATA_File)\n",
    "dfExcel=pd.read_excel(linkToEXCEL_File,usecols='B:P') #this omits first column (row number from Excel)."
   ]
  },
  {
   "cell_type": "code",
   "execution_count": 8,
   "id": "e1238f82",
   "metadata": {},
   "outputs": [
    {
     "data": {
      "text/plain": [
       "(pandas.core.frame.DataFrame, pandas.core.frame.DataFrame)"
      ]
     },
     "execution_count": 8,
     "metadata": {},
     "output_type": "execute_result"
    }
   ],
   "source": [
    "# what kind of objects are the files?  \n",
    "type(dfStata) , type(dfExcel)"
   ]
  },
  {
   "cell_type": "code",
   "execution_count": 9,
   "id": "99715660",
   "metadata": {},
   "outputs": [
    {
     "data": {
      "text/plain": [
       "((600, 15), (600, 15))"
      ]
     },
     "execution_count": 9,
     "metadata": {},
     "output_type": "execute_result"
    }
   ],
   "source": [
    "# and what is their shape\n",
    "dfStata.shape, dfExcel.shape"
   ]
  },
  {
   "cell_type": "code",
   "execution_count": 10,
   "id": "f5b0f080",
   "metadata": {},
   "outputs": [
    {
     "data": {
      "text/html": [
       "<div>\n",
       "<style scoped>\n",
       "    .dataframe tbody tr th:only-of-type {\n",
       "        vertical-align: middle;\n",
       "    }\n",
       "\n",
       "    .dataframe tbody tr th {\n",
       "        vertical-align: top;\n",
       "    }\n",
       "\n",
       "    .dataframe thead th {\n",
       "        text-align: right;\n",
       "    }\n",
       "</style>\n",
       "<table border=\"1\" class=\"dataframe\">\n",
       "  <thead>\n",
       "    <tr style=\"text-align: right;\">\n",
       "      <th></th>\n",
       "      <th>id</th>\n",
       "      <th>sex</th>\n",
       "      <th>race</th>\n",
       "      <th>ses</th>\n",
       "      <th>sctyp</th>\n",
       "      <th>hsp</th>\n",
       "      <th>locus</th>\n",
       "      <th>concpt</th>\n",
       "      <th>mot</th>\n",
       "      <th>car</th>\n",
       "      <th>rdg</th>\n",
       "      <th>wrtg</th>\n",
       "      <th>math</th>\n",
       "      <th>sci</th>\n",
       "      <th>civ</th>\n",
       "    </tr>\n",
       "  </thead>\n",
       "  <tbody>\n",
       "    <tr>\n",
       "      <th>0</th>\n",
       "      <td>1</td>\n",
       "      <td>Female</td>\n",
       "      <td>Asian</td>\n",
       "      <td>Low</td>\n",
       "      <td>Public</td>\n",
       "      <td>Vocational/Technical</td>\n",
       "      <td>0.29</td>\n",
       "      <td>0.88</td>\n",
       "      <td>0.67</td>\n",
       "      <td>Professional_2</td>\n",
       "      <td>33.6</td>\n",
       "      <td>43.7</td>\n",
       "      <td>40.2</td>\n",
       "      <td>39.0</td>\n",
       "      <td>40.6</td>\n",
       "    </tr>\n",
       "    <tr>\n",
       "      <th>1</th>\n",
       "      <td>2</td>\n",
       "      <td>Male</td>\n",
       "      <td>Asian</td>\n",
       "      <td>Low</td>\n",
       "      <td>Public</td>\n",
       "      <td>Academic preparatory</td>\n",
       "      <td>-0.42</td>\n",
       "      <td>0.03</td>\n",
       "      <td>0.33</td>\n",
       "      <td>Craftsman</td>\n",
       "      <td>46.9</td>\n",
       "      <td>35.9</td>\n",
       "      <td>41.9</td>\n",
       "      <td>36.3</td>\n",
       "      <td>45.6</td>\n",
       "    </tr>\n",
       "    <tr>\n",
       "      <th>2</th>\n",
       "      <td>3</td>\n",
       "      <td>Female</td>\n",
       "      <td>Asian</td>\n",
       "      <td>Low</td>\n",
       "      <td>Public</td>\n",
       "      <td>Academic preparatory</td>\n",
       "      <td>0.71</td>\n",
       "      <td>0.03</td>\n",
       "      <td>0.67</td>\n",
       "      <td>Professional_1</td>\n",
       "      <td>41.6</td>\n",
       "      <td>59.3</td>\n",
       "      <td>41.9</td>\n",
       "      <td>44.4</td>\n",
       "      <td>45.6</td>\n",
       "    </tr>\n",
       "    <tr>\n",
       "      <th>3</th>\n",
       "      <td>4</td>\n",
       "      <td>Female</td>\n",
       "      <td>Asian</td>\n",
       "      <td>Medium</td>\n",
       "      <td>Public</td>\n",
       "      <td>Vocational/Technical</td>\n",
       "      <td>0.06</td>\n",
       "      <td>0.03</td>\n",
       "      <td>0.00</td>\n",
       "      <td>Service</td>\n",
       "      <td>38.9</td>\n",
       "      <td>41.1</td>\n",
       "      <td>32.7</td>\n",
       "      <td>41.7</td>\n",
       "      <td>40.6</td>\n",
       "    </tr>\n",
       "    <tr>\n",
       "      <th>4</th>\n",
       "      <td>5</td>\n",
       "      <td>Female</td>\n",
       "      <td>Asian</td>\n",
       "      <td>Medium</td>\n",
       "      <td>Public</td>\n",
       "      <td>Vocational/Technical</td>\n",
       "      <td>0.22</td>\n",
       "      <td>-0.28</td>\n",
       "      <td>0.00</td>\n",
       "      <td>Clerical</td>\n",
       "      <td>36.3</td>\n",
       "      <td>48.9</td>\n",
       "      <td>39.5</td>\n",
       "      <td>41.7</td>\n",
       "      <td>45.6</td>\n",
       "    </tr>\n",
       "  </tbody>\n",
       "</table>\n",
       "</div>"
      ],
      "text/plain": [
       "      id     sex   race     ses   sctyp                   hsp  locus  concpt  \\\n",
       "0      1  Female  Asian     Low  Public  Vocational/Technical   0.29    0.88   \n",
       "1      2    Male  Asian     Low  Public  Academic preparatory  -0.42    0.03   \n",
       "2      3  Female  Asian     Low  Public  Academic preparatory   0.71    0.03   \n",
       "3      4  Female  Asian  Medium  Public  Vocational/Technical   0.06    0.03   \n",
       "4      5  Female  Asian  Medium  Public  Vocational/Technical   0.22   -0.28   \n",
       "\n",
       "    mot             car   rdg  wrtg  math   sci   civ  \n",
       "0  0.67  Professional_2  33.6  43.7  40.2  39.0  40.6  \n",
       "1  0.33       Craftsman  46.9  35.9  41.9  36.3  45.6  \n",
       "2  0.67  Professional_1  41.6  59.3  41.9  44.4  45.6  \n",
       "3  0.00         Service  38.9  41.1  32.7  41.7  40.6  \n",
       "4  0.00        Clerical  36.3  48.9  39.5  41.7  45.6  "
      ]
     },
     "execution_count": 10,
     "metadata": {},
     "output_type": "execute_result"
    }
   ],
   "source": [
    "# explore the data \n",
    "dfStata.head()"
   ]
  },
  {
   "cell_type": "code",
   "execution_count": 11,
   "id": "7b378d90",
   "metadata": {},
   "outputs": [
    {
     "data": {
      "text/html": [
       "<div>\n",
       "<style scoped>\n",
       "    .dataframe tbody tr th:only-of-type {\n",
       "        vertical-align: middle;\n",
       "    }\n",
       "\n",
       "    .dataframe tbody tr th {\n",
       "        vertical-align: top;\n",
       "    }\n",
       "\n",
       "    .dataframe thead th {\n",
       "        text-align: right;\n",
       "    }\n",
       "</style>\n",
       "<table border=\"1\" class=\"dataframe\">\n",
       "  <thead>\n",
       "    <tr style=\"text-align: right;\">\n",
       "      <th></th>\n",
       "      <th>id</th>\n",
       "      <th>sex</th>\n",
       "      <th>race</th>\n",
       "      <th>ses</th>\n",
       "      <th>sctyp</th>\n",
       "      <th>hsp</th>\n",
       "      <th>locus</th>\n",
       "      <th>concpt</th>\n",
       "      <th>mot</th>\n",
       "      <th>car</th>\n",
       "      <th>rdg</th>\n",
       "      <th>wrtg</th>\n",
       "      <th>math</th>\n",
       "      <th>sci</th>\n",
       "      <th>civ</th>\n",
       "    </tr>\n",
       "  </thead>\n",
       "  <tbody>\n",
       "    <tr>\n",
       "      <th>595</th>\n",
       "      <td>596</td>\n",
       "      <td>Male</td>\n",
       "      <td>Hispanic</td>\n",
       "      <td>High</td>\n",
       "      <td>Private</td>\n",
       "      <td>General</td>\n",
       "      <td>0.27</td>\n",
       "      <td>-1.05</td>\n",
       "      <td>0.33</td>\n",
       "      <td>Professional_1</td>\n",
       "      <td>60.1</td>\n",
       "      <td>54.1</td>\n",
       "      <td>56.3</td>\n",
       "      <td>55.3</td>\n",
       "      <td>55.6</td>\n",
       "    </tr>\n",
       "    <tr>\n",
       "      <th>596</th>\n",
       "      <td>597</td>\n",
       "      <td>Male</td>\n",
       "      <td>Hispanic</td>\n",
       "      <td>Medium</td>\n",
       "      <td>Private</td>\n",
       "      <td>General</td>\n",
       "      <td>0.55</td>\n",
       "      <td>0.34</td>\n",
       "      <td>1.00</td>\n",
       "      <td>Technical</td>\n",
       "      <td>62.7</td>\n",
       "      <td>61.9</td>\n",
       "      <td>72.9</td>\n",
       "      <td>63.4</td>\n",
       "      <td>55.6</td>\n",
       "    </tr>\n",
       "    <tr>\n",
       "      <th>597</th>\n",
       "      <td>598</td>\n",
       "      <td>Male</td>\n",
       "      <td>Hispanic</td>\n",
       "      <td>Medium</td>\n",
       "      <td>Private</td>\n",
       "      <td>General</td>\n",
       "      <td>-0.61</td>\n",
       "      <td>0.34</td>\n",
       "      <td>0.67</td>\n",
       "      <td>Technical</td>\n",
       "      <td>68.0</td>\n",
       "      <td>54.1</td>\n",
       "      <td>74.6</td>\n",
       "      <td>66.1</td>\n",
       "      <td>65.5</td>\n",
       "    </tr>\n",
       "    <tr>\n",
       "      <th>598</th>\n",
       "      <td>599</td>\n",
       "      <td>Female</td>\n",
       "      <td>Hispanic</td>\n",
       "      <td>Medium</td>\n",
       "      <td>Private</td>\n",
       "      <td>General</td>\n",
       "      <td>0.23</td>\n",
       "      <td>0.94</td>\n",
       "      <td>1.00</td>\n",
       "      <td>Professional_2</td>\n",
       "      <td>57.4</td>\n",
       "      <td>67.1</td>\n",
       "      <td>57.9</td>\n",
       "      <td>60.7</td>\n",
       "      <td>55.6</td>\n",
       "    </tr>\n",
       "    <tr>\n",
       "      <th>599</th>\n",
       "      <td>600</td>\n",
       "      <td>Male</td>\n",
       "      <td>Hispanic</td>\n",
       "      <td>Medium</td>\n",
       "      <td>Private</td>\n",
       "      <td>General</td>\n",
       "      <td>0.02</td>\n",
       "      <td>0.03</td>\n",
       "      <td>0.33</td>\n",
       "      <td>Professional_1</td>\n",
       "      <td>62.7</td>\n",
       "      <td>54.1</td>\n",
       "      <td>64.7</td>\n",
       "      <td>58.0</td>\n",
       "      <td>50.6</td>\n",
       "    </tr>\n",
       "  </tbody>\n",
       "</table>\n",
       "</div>"
      ],
      "text/plain": [
       "      id     sex      race     ses    sctyp      hsp  locus  concpt   mot  \\\n",
       "595  596    Male  Hispanic    High  Private  General   0.27   -1.05  0.33   \n",
       "596  597    Male  Hispanic  Medium  Private  General   0.55    0.34  1.00   \n",
       "597  598    Male  Hispanic  Medium  Private  General  -0.61    0.34  0.67   \n",
       "598  599  Female  Hispanic  Medium  Private  General   0.23    0.94  1.00   \n",
       "599  600    Male  Hispanic  Medium  Private  General   0.02    0.03  0.33   \n",
       "\n",
       "                car   rdg  wrtg  math   sci   civ  \n",
       "595  Professional_1  60.1  54.1  56.3  55.3  55.6  \n",
       "596       Technical  62.7  61.9  72.9  63.4  55.6  \n",
       "597       Technical  68.0  54.1  74.6  66.1  65.5  \n",
       "598  Professional_2  57.4  67.1  57.9  60.7  55.6  \n",
       "599  Professional_1  62.7  54.1  64.7  58.0  50.6  "
      ]
     },
     "execution_count": 11,
     "metadata": {},
     "output_type": "execute_result"
    }
   ],
   "source": [
    "dfExcel.tail()"
   ]
  },
  {
   "cell_type": "markdown",
   "id": "6a71557a",
   "metadata": {},
   "source": [
    "### 1.2 Reading data from SPSS "
   ]
  },
  {
   "cell_type": "code",
   "execution_count": 16,
   "id": "72e622bd",
   "metadata": {},
   "outputs": [],
   "source": [
    "import pyreadstat "
   ]
  },
  {
   "cell_type": "markdown",
   "id": "5dd06892",
   "metadata": {},
   "source": [
    "reading SPSS files is tricky..."
   ]
  },
  {
   "cell_type": "code",
   "execution_count": 17,
   "id": "97e3c874",
   "metadata": {},
   "outputs": [],
   "source": [
    "# to open link:\n",
    "from urllib.request import urlopen\n",
    "\n",
    "response = urlopen(linkToSPSS_File) \n",
    "\n",
    "# reading contents\n",
    "content = response.read() \n",
    "\n",
    "# opening a file new file locally\n",
    "fhandle = open('savingLocally.sav', 'wb') #wb is \n",
    "\n",
    "# saving contents in that file\n",
    "fhandle.write(content) \n",
    "\n",
    "# closing the file\n",
    "fhandle.close() "
   ]
  },
  {
   "cell_type": "markdown",
   "id": "cf622144",
   "metadata": {},
   "source": [
    "## 2.0 Collecting Data from APIs"
   ]
  },
  {
   "cell_type": "code",
   "execution_count": 23,
   "id": "4f11da71",
   "metadata": {},
   "outputs": [],
   "source": [
    "from IPython.display import IFrame   \n",
    "\n",
    "#lets look at a website! \n",
    "fromAPI=\"https://dev.socrata.com/foundry/data.seattle.gov/kzjm-xkqj\" \n",
    "IFrame(fromAPI, width=900, height=500)"
   ]
  },
  {
   "cell_type": "code",
   "execution_count": 19,
   "id": "adfc922e",
   "metadata": {
    "scrolled": true
   },
   "outputs": [
    {
     "name": "stdout",
     "output_type": "stream",
     "text": [
      "Collecting sodapy\n",
      "  Downloading sodapy-2.1.0-py2.py3-none-any.whl (14 kB)\n",
      "Requirement already satisfied: requests>=2.20.0 in /Users/Varsha/opt/anaconda3/lib/python3.9/site-packages (from sodapy) (2.26.0)\n",
      "Requirement already satisfied: certifi>=2017.4.17 in /Users/Varsha/opt/anaconda3/lib/python3.9/site-packages (from requests>=2.20.0->sodapy) (2021.10.8)\n",
      "Requirement already satisfied: charset-normalizer~=2.0.0 in /Users/Varsha/opt/anaconda3/lib/python3.9/site-packages (from requests>=2.20.0->sodapy) (2.0.4)\n",
      "Requirement already satisfied: idna<4,>=2.5 in /Users/Varsha/opt/anaconda3/lib/python3.9/site-packages (from requests>=2.20.0->sodapy) (3.2)\n",
      "Requirement already satisfied: urllib3<1.27,>=1.21.1 in /Users/Varsha/opt/anaconda3/lib/python3.9/site-packages (from requests>=2.20.0->sodapy) (1.26.7)\n",
      "Installing collected packages: sodapy\n",
      "Successfully installed sodapy-2.1.0\n"
     ]
    }
   ],
   "source": [
    "!pip install sodapy"
   ]
  },
  {
   "cell_type": "markdown",
   "id": "96ce21a0",
   "metadata": {},
   "source": [
    "Currently do not have an API token so using this as an \"unauthenticated client\" \n",
    "(documentation on website) "
   ]
  },
  {
   "cell_type": "code",
   "execution_count": 20,
   "id": "8b2ca203",
   "metadata": {},
   "outputs": [
    {
     "name": "stderr",
     "output_type": "stream",
     "text": [
      "WARNING:root:Requests made without an app_token will be subject to strict throttling limits.\n"
     ]
    }
   ],
   "source": [
    "from sodapy import Socrata\n",
    "\n",
    "# Unauthenticated client (using 'None')\n",
    "\n",
    "client = Socrata(\"data.seattle.gov\", None)\n",
    "\n",
    "# If you have credentials:\n",
    "# client = Socrata(data.seattle.gov,\n",
    "#                  MyAppToken,\n",
    "#                  username=\"user@example.com\",\n",
    "#                  password=\"AFakePassword\")\n",
    "\n",
    "# First 500 results, returned as JSON from API / converted to Python list of\n",
    "# dictionaries by sodapy.\n",
    "\n",
    "results = client.get(\"kzjm-xkqj\", limit=2000)\n",
    "\n",
    "# Convert to pandas DataFrame\n",
    "results_df = pd.DataFrame.from_records(results)"
   ]
  },
  {
   "cell_type": "code",
   "execution_count": 21,
   "id": "9ad66ec9",
   "metadata": {
    "scrolled": true
   },
   "outputs": [
    {
     "data": {
      "text/html": [
       "<div>\n",
       "<style scoped>\n",
       "    .dataframe tbody tr th:only-of-type {\n",
       "        vertical-align: middle;\n",
       "    }\n",
       "\n",
       "    .dataframe tbody tr th {\n",
       "        vertical-align: top;\n",
       "    }\n",
       "\n",
       "    .dataframe thead th {\n",
       "        text-align: right;\n",
       "    }\n",
       "</style>\n",
       "<table border=\"1\" class=\"dataframe\">\n",
       "  <thead>\n",
       "    <tr style=\"text-align: right;\">\n",
       "      <th></th>\n",
       "      <th>address</th>\n",
       "      <th>type</th>\n",
       "      <th>datetime</th>\n",
       "      <th>latitude</th>\n",
       "      <th>longitude</th>\n",
       "      <th>report_location</th>\n",
       "      <th>incident_number</th>\n",
       "      <th>:@computed_region_ru88_fbhk</th>\n",
       "      <th>:@computed_region_kuhn_3gp2</th>\n",
       "      <th>:@computed_region_q256_3sug</th>\n",
       "      <th>:@computed_region_2day_rhn5</th>\n",
       "      <th>:@computed_region_cyqu_gs94</th>\n",
       "    </tr>\n",
       "  </thead>\n",
       "  <tbody>\n",
       "    <tr>\n",
       "      <th>0</th>\n",
       "      <td>1924 9th Ave</td>\n",
       "      <td>Aid Response</td>\n",
       "      <td>2022-01-13T09:41:00.000</td>\n",
       "      <td>47.615796</td>\n",
       "      <td>-122.334741</td>\n",
       "      <td>{'type': 'Point', 'coordinates': [-122.334741,...</td>\n",
       "      <td>F220005633</td>\n",
       "      <td>56</td>\n",
       "      <td>31</td>\n",
       "      <td>18081</td>\n",
       "      <td>NaN</td>\n",
       "      <td>NaN</td>\n",
       "    </tr>\n",
       "    <tr>\n",
       "      <th>1</th>\n",
       "      <td>2320 E UNION ST</td>\n",
       "      <td>Aid Response</td>\n",
       "      <td>2022-01-13T09:32:00.000</td>\n",
       "      <td>47.612941</td>\n",
       "      <td>-122.30244</td>\n",
       "      <td>{'type': 'Point', 'coordinates': [-122.30244, ...</td>\n",
       "      <td>F220005631</td>\n",
       "      <td>9</td>\n",
       "      <td>8</td>\n",
       "      <td>19578</td>\n",
       "      <td>NaN</td>\n",
       "      <td>NaN</td>\n",
       "    </tr>\n",
       "    <tr>\n",
       "      <th>2</th>\n",
       "      <td>1104 Nw 130th St</td>\n",
       "      <td>Aid Response</td>\n",
       "      <td>2022-01-13T09:31:00.000</td>\n",
       "      <td>47.723312</td>\n",
       "      <td>-122.370418</td>\n",
       "      <td>{'type': 'Point', 'coordinates': [-122.370418,...</td>\n",
       "      <td>F220005630</td>\n",
       "      <td>6</td>\n",
       "      <td>32</td>\n",
       "      <td>18229</td>\n",
       "      <td>126</td>\n",
       "      <td>1</td>\n",
       "    </tr>\n",
       "    <tr>\n",
       "      <th>3</th>\n",
       "      <td>4755 Fauntleroy Way Sw</td>\n",
       "      <td>Aid Response</td>\n",
       "      <td>2022-01-13T09:30:00.000</td>\n",
       "      <td>47.560074</td>\n",
       "      <td>-122.381457</td>\n",
       "      <td>{'type': 'Point', 'coordinates': [-122.381457,...</td>\n",
       "      <td>F220005629</td>\n",
       "      <td>1</td>\n",
       "      <td>50</td>\n",
       "      <td>19581</td>\n",
       "      <td>NaN</td>\n",
       "      <td>NaN</td>\n",
       "    </tr>\n",
       "    <tr>\n",
       "      <th>4</th>\n",
       "      <td>627 4th Ave W</td>\n",
       "      <td>Aid Response</td>\n",
       "      <td>2022-01-13T09:29:00.000</td>\n",
       "      <td>47.624935</td>\n",
       "      <td>-122.361932</td>\n",
       "      <td>{'type': 'Point', 'coordinates': [-122.361932,...</td>\n",
       "      <td>F220005628</td>\n",
       "      <td>50</td>\n",
       "      <td>40</td>\n",
       "      <td>19575</td>\n",
       "      <td>NaN</td>\n",
       "      <td>NaN</td>\n",
       "    </tr>\n",
       "  </tbody>\n",
       "</table>\n",
       "</div>"
      ],
      "text/plain": [
       "                  address          type                 datetime   latitude  \\\n",
       "0            1924 9th Ave  Aid Response  2022-01-13T09:41:00.000  47.615796   \n",
       "1         2320 E UNION ST  Aid Response  2022-01-13T09:32:00.000  47.612941   \n",
       "2        1104 Nw 130th St  Aid Response  2022-01-13T09:31:00.000  47.723312   \n",
       "3  4755 Fauntleroy Way Sw  Aid Response  2022-01-13T09:30:00.000  47.560074   \n",
       "4           627 4th Ave W  Aid Response  2022-01-13T09:29:00.000  47.624935   \n",
       "\n",
       "     longitude                                    report_location  \\\n",
       "0  -122.334741  {'type': 'Point', 'coordinates': [-122.334741,...   \n",
       "1   -122.30244  {'type': 'Point', 'coordinates': [-122.30244, ...   \n",
       "2  -122.370418  {'type': 'Point', 'coordinates': [-122.370418,...   \n",
       "3  -122.381457  {'type': 'Point', 'coordinates': [-122.381457,...   \n",
       "4  -122.361932  {'type': 'Point', 'coordinates': [-122.361932,...   \n",
       "\n",
       "  incident_number :@computed_region_ru88_fbhk :@computed_region_kuhn_3gp2  \\\n",
       "0      F220005633                          56                          31   \n",
       "1      F220005631                           9                           8   \n",
       "2      F220005630                           6                          32   \n",
       "3      F220005629                           1                          50   \n",
       "4      F220005628                          50                          40   \n",
       "\n",
       "  :@computed_region_q256_3sug :@computed_region_2day_rhn5  \\\n",
       "0                       18081                         NaN   \n",
       "1                       19578                         NaN   \n",
       "2                       18229                         126   \n",
       "3                       19581                         NaN   \n",
       "4                       19575                         NaN   \n",
       "\n",
       "  :@computed_region_cyqu_gs94  \n",
       "0                         NaN  \n",
       "1                         NaN  \n",
       "2                           1  \n",
       "3                         NaN  \n",
       "4                         NaN  "
      ]
     },
     "execution_count": 21,
     "metadata": {},
     "output_type": "execute_result"
    }
   ],
   "source": [
    "results_df.head()"
   ]
  },
  {
   "cell_type": "markdown",
   "id": "06d39c92",
   "metadata": {},
   "source": [
    "## 3.0 Scraping from the web"
   ]
  },
  {
   "cell_type": "code",
   "execution_count": 35,
   "id": "dceeb9e8",
   "metadata": {
    "scrolled": true
   },
   "outputs": [],
   "source": [
    "import html5lib \n",
    "#import beautifulsoup4 should be import bs4\n",
    "import lxml"
   ]
  },
  {
   "cell_type": "code",
   "execution_count": 39,
   "id": "1e2383cd",
   "metadata": {
    "scrolled": true
   },
   "outputs": [
    {
     "name": "stdout",
     "output_type": "stream",
     "text": [
      "Collecting beautifulsoup\n",
      "  Using cached BeautifulSoup-3.2.2.tar.gz (32 kB)\n",
      "\u001b[31m    ERROR: Command errored out with exit status 1:\n",
      "     command: /Users/Varsha/opt/anaconda3/bin/python -c 'import io, os, sys, setuptools, tokenize; sys.argv[0] = '\"'\"'/private/var/folders/x6/cq37ctt51yv9cpgjk4yl_jgw0000gn/T/pip-install-3sbpio3w/beautifulsoup_43b8b2beeb284733bff31794e26ac604/setup.py'\"'\"'; __file__='\"'\"'/private/var/folders/x6/cq37ctt51yv9cpgjk4yl_jgw0000gn/T/pip-install-3sbpio3w/beautifulsoup_43b8b2beeb284733bff31794e26ac604/setup.py'\"'\"';f = getattr(tokenize, '\"'\"'open'\"'\"', open)(__file__) if os.path.exists(__file__) else io.StringIO('\"'\"'from setuptools import setup; setup()'\"'\"');code = f.read().replace('\"'\"'\\r\\n'\"'\"', '\"'\"'\\n'\"'\"');f.close();exec(compile(code, __file__, '\"'\"'exec'\"'\"'))' egg_info --egg-base /private/var/folders/x6/cq37ctt51yv9cpgjk4yl_jgw0000gn/T/pip-pip-egg-info-iquasayg\n",
      "         cwd: /private/var/folders/x6/cq37ctt51yv9cpgjk4yl_jgw0000gn/T/pip-install-3sbpio3w/beautifulsoup_43b8b2beeb284733bff31794e26ac604/\n",
      "    Complete output (6 lines):\n",
      "    Traceback (most recent call last):\n",
      "      File \"<string>\", line 1, in <module>\n",
      "      File \"/private/var/folders/x6/cq37ctt51yv9cpgjk4yl_jgw0000gn/T/pip-install-3sbpio3w/beautifulsoup_43b8b2beeb284733bff31794e26ac604/setup.py\", line 3\n",
      "        \"You're trying to run a very old release of Beautiful Soup under Python 3. This will not work.\"<>\"Please use Beautiful Soup 4, available through the pip package 'beautifulsoup4'.\"\n",
      "                                                                                                       ^\n",
      "    SyntaxError: invalid syntax\n",
      "    ----------------------------------------\u001b[0m\n",
      "\u001b[33mWARNING: Discarding https://files.pythonhosted.org/packages/40/f2/6c9f2f3e696ee6a1fb0e4d7850617e224ed2b0b1e872110abffeca2a09d4/BeautifulSoup-3.2.2.tar.gz#sha256=a04169602bff6e3138b1259dbbf491f5a27f9499dea9a8fbafd48843f9d89970 (from https://pypi.org/simple/beautifulsoup/). Command errored out with exit status 1: python setup.py egg_info Check the logs for full command output.\u001b[0m\n",
      "  Using cached BeautifulSoup-3.2.1.tar.gz (31 kB)\n",
      "\u001b[31m    ERROR: Command errored out with exit status 1:\n",
      "     command: /Users/Varsha/opt/anaconda3/bin/python -c 'import io, os, sys, setuptools, tokenize; sys.argv[0] = '\"'\"'/private/var/folders/x6/cq37ctt51yv9cpgjk4yl_jgw0000gn/T/pip-install-3sbpio3w/beautifulsoup_2200db0c2e3047308b85125ad9797d6f/setup.py'\"'\"'; __file__='\"'\"'/private/var/folders/x6/cq37ctt51yv9cpgjk4yl_jgw0000gn/T/pip-install-3sbpio3w/beautifulsoup_2200db0c2e3047308b85125ad9797d6f/setup.py'\"'\"';f = getattr(tokenize, '\"'\"'open'\"'\"', open)(__file__) if os.path.exists(__file__) else io.StringIO('\"'\"'from setuptools import setup; setup()'\"'\"');code = f.read().replace('\"'\"'\\r\\n'\"'\"', '\"'\"'\\n'\"'\"');f.close();exec(compile(code, __file__, '\"'\"'exec'\"'\"'))' egg_info --egg-base /private/var/folders/x6/cq37ctt51yv9cpgjk4yl_jgw0000gn/T/pip-pip-egg-info-w0_0_tnd\n",
      "         cwd: /private/var/folders/x6/cq37ctt51yv9cpgjk4yl_jgw0000gn/T/pip-install-3sbpio3w/beautifulsoup_2200db0c2e3047308b85125ad9797d6f/\n",
      "    Complete output (6 lines):\n",
      "    Traceback (most recent call last):\n",
      "      File \"<string>\", line 1, in <module>\n",
      "      File \"/private/var/folders/x6/cq37ctt51yv9cpgjk4yl_jgw0000gn/T/pip-install-3sbpio3w/beautifulsoup_2200db0c2e3047308b85125ad9797d6f/setup.py\", line 22\n",
      "        print \"Unit tests have failed!\"\n",
      "              ^\n",
      "    SyntaxError: Missing parentheses in call to 'print'. Did you mean print(\"Unit tests have failed!\")?\n",
      "    ----------------------------------------\u001b[0m\n",
      "\u001b[33mWARNING: Discarding https://files.pythonhosted.org/packages/1e/ee/295988deca1a5a7accd783d0dfe14524867e31abb05b6c0eeceee49c759d/BeautifulSoup-3.2.1.tar.gz#sha256=6a8cb4401111e011b579c8c52a51cdab970041cc543814bbd9577a4529fe1cdb (from https://pypi.org/simple/beautifulsoup/). Command errored out with exit status 1: python setup.py egg_info Check the logs for full command output.\u001b[0m\n",
      "  Using cached BeautifulSoup-3.2.0.tar.gz (31 kB)\n",
      "\u001b[31m    ERROR: Command errored out with exit status 1:\n",
      "     command: /Users/Varsha/opt/anaconda3/bin/python -c 'import io, os, sys, setuptools, tokenize; sys.argv[0] = '\"'\"'/private/var/folders/x6/cq37ctt51yv9cpgjk4yl_jgw0000gn/T/pip-install-3sbpio3w/beautifulsoup_e750f09437554b838f368aab21696310/setup.py'\"'\"'; __file__='\"'\"'/private/var/folders/x6/cq37ctt51yv9cpgjk4yl_jgw0000gn/T/pip-install-3sbpio3w/beautifulsoup_e750f09437554b838f368aab21696310/setup.py'\"'\"';f = getattr(tokenize, '\"'\"'open'\"'\"', open)(__file__) if os.path.exists(__file__) else io.StringIO('\"'\"'from setuptools import setup; setup()'\"'\"');code = f.read().replace('\"'\"'\\r\\n'\"'\"', '\"'\"'\\n'\"'\"');f.close();exec(compile(code, __file__, '\"'\"'exec'\"'\"'))' egg_info --egg-base /private/var/folders/x6/cq37ctt51yv9cpgjk4yl_jgw0000gn/T/pip-pip-egg-info-b26_ngp1\n",
      "         cwd: /private/var/folders/x6/cq37ctt51yv9cpgjk4yl_jgw0000gn/T/pip-install-3sbpio3w/beautifulsoup_e750f09437554b838f368aab21696310/\n",
      "    Complete output (6 lines):\n",
      "    Traceback (most recent call last):\n",
      "      File \"<string>\", line 1, in <module>\n",
      "      File \"/private/var/folders/x6/cq37ctt51yv9cpgjk4yl_jgw0000gn/T/pip-install-3sbpio3w/beautifulsoup_e750f09437554b838f368aab21696310/setup.py\", line 22\n",
      "        print \"Unit tests have failed!\"\n",
      "              ^\n",
      "    SyntaxError: Missing parentheses in call to 'print'. Did you mean print(\"Unit tests have failed!\")?\n",
      "    ----------------------------------------\u001b[0m\n",
      "\u001b[33mWARNING: Discarding https://files.pythonhosted.org/packages/33/fe/15326560884f20d792d3ffc7fe8f639aab88647c9d46509a240d9bfbb6b1/BeautifulSoup-3.2.0.tar.gz#sha256=0dc52d07516c1665c9dd9f0a390a7a054bfb7b147a50b2866fb116b8909dfd37 (from https://pypi.org/simple/beautifulsoup/). Command errored out with exit status 1: python setup.py egg_info Check the logs for full command output.\u001b[0m\n",
      "\u001b[31mERROR: Could not find a version that satisfies the requirement beautifulsoup (from versions: 3.2.0, 3.2.1, 3.2.2)\u001b[0m\n",
      "\u001b[31mERROR: No matching distribution found for beautifulsoup\u001b[0m\n"
     ]
    }
   ],
   "source": [
    "!pip install beautifulsoup"
   ]
  },
  {
   "cell_type": "code",
   "execution_count": 40,
   "id": "918d0b8e",
   "metadata": {
    "scrolled": false
   },
   "outputs": [
    {
     "name": "stdout",
     "output_type": "stream",
     "text": [
      "Name: beautifulsoup4\r\n",
      "Version: 4.10.0\r\n",
      "Summary: Screen-scraping library\r\n",
      "Home-page: http://www.crummy.com/software/BeautifulSoup/bs4/\r\n",
      "Author: Leonard Richardson\r\n",
      "Author-email: leonardr@segfault.org\r\n",
      "License: MIT\r\n",
      "Location: /Users/Varsha/opt/anaconda3/lib/python3.9/site-packages\r\n",
      "Requires: soupsieve\r\n",
      "Required-by: conda-build\r\n"
     ]
    }
   ],
   "source": [
    "!pip show beautifulsoup4"
   ]
  },
  {
   "cell_type": "markdown",
   "id": "360a423a",
   "metadata": {},
   "source": [
    "Let's scrape some tables from wikipedia! "
   ]
  },
  {
   "cell_type": "code",
   "execution_count": 24,
   "id": "f6504f8a",
   "metadata": {},
   "outputs": [
    {
     "data": {
      "text/html": [
       "\n",
       "        <iframe\n",
       "            width=\"700\"\n",
       "            height=\"300\"\n",
       "            src=\"https://en.wikipedia.org/wiki/Democracy_Index\"\n",
       "            frameborder=\"0\"\n",
       "            allowfullscreen\n",
       "            \n",
       "        ></iframe>\n",
       "        "
      ],
      "text/plain": [
       "<IPython.lib.display.IFrame at 0x7f7f19c24dc0>"
      ]
     },
     "execution_count": 24,
     "metadata": {},
     "output_type": "execute_result"
    }
   ],
   "source": [
    "#from IPython.display import IFrame  \n",
    "\n",
    "wikiLink=\"https://en.wikipedia.org/wiki/Democracy_Index\" \n",
    "IFrame(wikiLink, width=700, height=300)"
   ]
  },
  {
   "cell_type": "code",
   "execution_count": 43,
   "id": "d8d7a0e2",
   "metadata": {},
   "outputs": [],
   "source": [
    "dataWIKI=pd.read_html(wikiLink,header=0,flavor='bs4',attrs={'class': 'wikitable'})"
   ]
  },
  {
   "cell_type": "code",
   "execution_count": 44,
   "id": "dcba65c1",
   "metadata": {},
   "outputs": [
    {
     "data": {
      "text/plain": [
       "list"
      ]
     },
     "execution_count": 44,
     "metadata": {},
     "output_type": "execute_result"
    }
   ],
   "source": [
    "# what is dataWIKI now?\n",
    "type(dataWIKI)"
   ]
  },
  {
   "cell_type": "code",
   "execution_count": 45,
   "id": "9ba4b0e0",
   "metadata": {},
   "outputs": [
    {
     "data": {
      "text/plain": [
       "6"
      ]
     },
     "execution_count": 45,
     "metadata": {},
     "output_type": "execute_result"
    }
   ],
   "source": [
    "len(dataWIKI)"
   ]
  },
  {
   "cell_type": "code",
   "execution_count": 46,
   "id": "dc5898cd",
   "metadata": {
    "scrolled": true
   },
   "outputs": [
    {
     "data": {
      "text/html": [
       "<div>\n",
       "<style scoped>\n",
       "    .dataframe tbody tr th:only-of-type {\n",
       "        vertical-align: middle;\n",
       "    }\n",
       "\n",
       "    .dataframe tbody tr th {\n",
       "        vertical-align: top;\n",
       "    }\n",
       "\n",
       "    .dataframe thead th {\n",
       "        text-align: right;\n",
       "    }\n",
       "</style>\n",
       "<table border=\"1\" class=\"dataframe\">\n",
       "  <thead>\n",
       "    <tr style=\"text-align: right;\">\n",
       "      <th></th>\n",
       "      <th>Type of regime</th>\n",
       "      <th>Colors</th>\n",
       "      <th>Colors.1</th>\n",
       "      <th>Score</th>\n",
       "      <th>Countries</th>\n",
       "      <th>Countries (%)</th>\n",
       "      <th>World population (%)</th>\n",
       "      <th>GDP (%)</th>\n",
       "    </tr>\n",
       "  </thead>\n",
       "  <tbody>\n",
       "    <tr>\n",
       "      <th>0</th>\n",
       "      <td>Full democracies</td>\n",
       "      <td>NaN</td>\n",
       "      <td>NaN</td>\n",
       "      <td>8.01–10</td>\n",
       "      <td>23</td>\n",
       "      <td>13.8%</td>\n",
       "      <td>8.4%</td>\n",
       "      <td>27.5%</td>\n",
       "    </tr>\n",
       "    <tr>\n",
       "      <th>1</th>\n",
       "      <td>Flawed democracies</td>\n",
       "      <td>NaN</td>\n",
       "      <td>NaN</td>\n",
       "      <td>6.01–8</td>\n",
       "      <td>52</td>\n",
       "      <td>31.1%</td>\n",
       "      <td>41.0%</td>\n",
       "      <td>45.7%</td>\n",
       "    </tr>\n",
       "    <tr>\n",
       "      <th>2</th>\n",
       "      <td>Hybrid regimes</td>\n",
       "      <td>NaN</td>\n",
       "      <td>NaN</td>\n",
       "      <td>4.01–6</td>\n",
       "      <td>35</td>\n",
       "      <td>21.0%</td>\n",
       "      <td>15.0%</td>\n",
       "      <td>3.7%</td>\n",
       "    </tr>\n",
       "    <tr>\n",
       "      <th>3</th>\n",
       "      <td>Authoritarian regimes</td>\n",
       "      <td>NaN</td>\n",
       "      <td>NaN</td>\n",
       "      <td>0–4</td>\n",
       "      <td>57</td>\n",
       "      <td>34.1%</td>\n",
       "      <td>35.6%</td>\n",
       "      <td>23.1%</td>\n",
       "    </tr>\n",
       "  </tbody>\n",
       "</table>\n",
       "</div>"
      ],
      "text/plain": [
       "          Type of regime  Colors  Colors.1    Score  Countries Countries (%)  \\\n",
       "0       Full democracies     NaN       NaN  8.01–10         23         13.8%   \n",
       "1     Flawed democracies     NaN       NaN   6.01–8         52         31.1%   \n",
       "2         Hybrid regimes     NaN       NaN   4.01–6         35         21.0%   \n",
       "3  Authoritarian regimes     NaN       NaN      0–4         57         34.1%   \n",
       "\n",
       "  World population (%) GDP (%)  \n",
       "0                 8.4%   27.5%  \n",
       "1                41.0%   45.7%  \n",
       "2                15.0%    3.7%  \n",
       "3                35.6%   23.1%  "
      ]
     },
     "execution_count": 46,
     "metadata": {},
     "output_type": "execute_result"
    }
   ],
   "source": [
    "#lets look at the first table\n",
    "dataWIKI[0]"
   ]
  },
  {
   "cell_type": "code",
   "execution_count": 48,
   "id": "c1867393",
   "metadata": {},
   "outputs": [
    {
     "data": {
      "text/html": [
       "<div>\n",
       "<style scoped>\n",
       "    .dataframe tbody tr th:only-of-type {\n",
       "        vertical-align: middle;\n",
       "    }\n",
       "\n",
       "    .dataframe tbody tr th {\n",
       "        vertical-align: top;\n",
       "    }\n",
       "\n",
       "    .dataframe thead th {\n",
       "        text-align: right;\n",
       "    }\n",
       "</style>\n",
       "<table border=\"1\" class=\"dataframe\">\n",
       "  <thead>\n",
       "    <tr style=\"text-align: right;\">\n",
       "      <th></th>\n",
       "      <th>Rank</th>\n",
       "      <th>.mw-parser-output .tooltip-dotted{border-bottom:1px dotted;cursor:help}Δ Rank</th>\n",
       "      <th>Country</th>\n",
       "      <th>Regime type</th>\n",
       "      <th>Overall score</th>\n",
       "      <th>Δ Score</th>\n",
       "      <th>Elec­toral pro­cess and plura­lism</th>\n",
       "      <th>Func­tioning of govern­ment</th>\n",
       "      <th>Poli­tical partici­pation</th>\n",
       "      <th>Poli­tical cul­ture</th>\n",
       "      <th>Civil liber­ties</th>\n",
       "    </tr>\n",
       "  </thead>\n",
       "  <tbody>\n",
       "    <tr>\n",
       "      <th>0</th>\n",
       "      <td>Full democracies</td>\n",
       "      <td>Full democracies</td>\n",
       "      <td>Full democracies</td>\n",
       "      <td>Full democracies</td>\n",
       "      <td>Full democracies</td>\n",
       "      <td>Full democracies</td>\n",
       "      <td>Full democracies</td>\n",
       "      <td>Full democracies</td>\n",
       "      <td>Full democracies</td>\n",
       "      <td>Full democracies</td>\n",
       "      <td>Full democracies</td>\n",
       "    </tr>\n",
       "    <tr>\n",
       "      <th>1</th>\n",
       "      <td>1</td>\n",
       "      <td>NaN</td>\n",
       "      <td>Norway</td>\n",
       "      <td>Full democracy</td>\n",
       "      <td>9.81</td>\n",
       "      <td>0.06</td>\n",
       "      <td>10.00</td>\n",
       "      <td>9.64</td>\n",
       "      <td>10.00</td>\n",
       "      <td>10.00</td>\n",
       "      <td>9.41</td>\n",
       "    </tr>\n",
       "    <tr>\n",
       "      <th>2</th>\n",
       "      <td>2</td>\n",
       "      <td>NaN</td>\n",
       "      <td>Iceland</td>\n",
       "      <td>Full democracy</td>\n",
       "      <td>9.37</td>\n",
       "      <td>0.21</td>\n",
       "      <td>10.00</td>\n",
       "      <td>8.57</td>\n",
       "      <td>8.89</td>\n",
       "      <td>10.00</td>\n",
       "      <td>9.41</td>\n",
       "    </tr>\n",
       "    <tr>\n",
       "      <th>3</th>\n",
       "      <td>3</td>\n",
       "      <td>NaN</td>\n",
       "      <td>Sweden</td>\n",
       "      <td>Full democracy</td>\n",
       "      <td>9.26</td>\n",
       "      <td>0.13</td>\n",
       "      <td>9.58</td>\n",
       "      <td>9.29</td>\n",
       "      <td>8.33</td>\n",
       "      <td>10.00</td>\n",
       "      <td>9.12</td>\n",
       "    </tr>\n",
       "    <tr>\n",
       "      <th>4</th>\n",
       "      <td>4</td>\n",
       "      <td>NaN</td>\n",
       "      <td>New Zealand</td>\n",
       "      <td>Full democracy</td>\n",
       "      <td>9.25</td>\n",
       "      <td>0.01</td>\n",
       "      <td>10.00</td>\n",
       "      <td>8.93</td>\n",
       "      <td>8.89</td>\n",
       "      <td>8.75</td>\n",
       "      <td>9.71</td>\n",
       "    </tr>\n",
       "  </tbody>\n",
       "</table>\n",
       "</div>"
      ],
      "text/plain": [
       "               Rank  \\\n",
       "0  Full democracies   \n",
       "1                 1   \n",
       "2                 2   \n",
       "3                 3   \n",
       "4                 4   \n",
       "\n",
       "  .mw-parser-output .tooltip-dotted{border-bottom:1px dotted;cursor:help}Δ Rank  \\\n",
       "0                                   Full democracies                              \n",
       "1                                                NaN                              \n",
       "2                                                NaN                              \n",
       "3                                                NaN                              \n",
       "4                                                NaN                              \n",
       "\n",
       "            Country       Regime type     Overall score           Δ Score  \\\n",
       "0  Full democracies  Full democracies  Full democracies  Full democracies   \n",
       "1            Norway    Full democracy              9.81              0.06   \n",
       "2           Iceland    Full democracy              9.37              0.21   \n",
       "3            Sweden    Full democracy              9.26              0.13   \n",
       "4       New Zealand    Full democracy              9.25              0.01   \n",
       "\n",
       "  Elec­toral pro­cess and plura­lism Func­tioning of govern­ment  \\\n",
       "0                   Full democracies            Full democracies   \n",
       "1                              10.00                        9.64   \n",
       "2                              10.00                        8.57   \n",
       "3                               9.58                        9.29   \n",
       "4                              10.00                        8.93   \n",
       "\n",
       "  Poli­tical partici­pation Poli­tical cul­ture  Civil liber­ties  \n",
       "0          Full democracies    Full democracies  Full democracies  \n",
       "1                     10.00               10.00              9.41  \n",
       "2                      8.89               10.00              9.41  \n",
       "3                      8.33               10.00              9.12  \n",
       "4                      8.89                8.75              9.71  "
      ]
     },
     "execution_count": 48,
     "metadata": {},
     "output_type": "execute_result"
    }
   ],
   "source": [
    "#lets work with the last table\n",
    "dataWIKI[5].head()"
   ]
  },
  {
   "cell_type": "markdown",
   "id": "48fc5a6f",
   "metadata": {},
   "source": [
    "## Social Media Data -- Twitter"
   ]
  },
  {
   "cell_type": "code",
   "execution_count": 50,
   "id": "468b363e",
   "metadata": {},
   "outputs": [
    {
     "name": "stdout",
     "output_type": "stream",
     "text": [
      "Collecting tweepy\n",
      "  Downloading tweepy-4.4.0-py2.py3-none-any.whl (65 kB)\n",
      "\u001b[K     |████████████████████████████████| 65 kB 7.1 MB/s eta 0:00:011\n",
      "\u001b[?25hRequirement already satisfied: requests<3,>=2.11.1 in /Users/Varsha/opt/anaconda3/lib/python3.9/site-packages (from tweepy) (2.26.0)\n",
      "Collecting requests-oauthlib<2,>=1.0.0\n",
      "  Downloading requests_oauthlib-1.3.0-py2.py3-none-any.whl (23 kB)\n",
      "Requirement already satisfied: urllib3<1.27,>=1.21.1 in /Users/Varsha/opt/anaconda3/lib/python3.9/site-packages (from requests<3,>=2.11.1->tweepy) (1.26.7)\n",
      "Requirement already satisfied: charset-normalizer~=2.0.0 in /Users/Varsha/opt/anaconda3/lib/python3.9/site-packages (from requests<3,>=2.11.1->tweepy) (2.0.4)\n",
      "Requirement already satisfied: certifi>=2017.4.17 in /Users/Varsha/opt/anaconda3/lib/python3.9/site-packages (from requests<3,>=2.11.1->tweepy) (2021.10.8)\n",
      "Requirement already satisfied: idna<4,>=2.5 in /Users/Varsha/opt/anaconda3/lib/python3.9/site-packages (from requests<3,>=2.11.1->tweepy) (3.2)\n",
      "Collecting oauthlib>=3.0.0\n",
      "  Downloading oauthlib-3.1.1-py2.py3-none-any.whl (146 kB)\n",
      "\u001b[K     |████████████████████████████████| 146 kB 12.4 MB/s eta 0:00:01\n",
      "\u001b[?25hInstalling collected packages: oauthlib, requests-oauthlib, tweepy\n",
      "Successfully installed oauthlib-3.1.1 requests-oauthlib-1.3.0 tweepy-4.4.0\n"
     ]
    }
   ],
   "source": [
    "!pip install tweepy"
   ]
  },
  {
   "cell_type": "code",
   "execution_count": 51,
   "id": "6d209e68",
   "metadata": {},
   "outputs": [],
   "source": [
    "import tweepy"
   ]
  },
  {
   "cell_type": "code",
   "execution_count": 52,
   "id": "4d0b6e41",
   "metadata": {},
   "outputs": [
    {
     "name": "stdout",
     "output_type": "stream",
     "text": [
      "Name: tweepy\r\n",
      "Version: 4.4.0\r\n",
      "Summary: Twitter library for Python\r\n",
      "Home-page: https://www.tweepy.org/\r\n",
      "Author: Joshua Roesslein\r\n",
      "Author-email: tweepy@googlegroups.com\r\n",
      "License: MIT\r\n",
      "Location: /Users/Varsha/opt/anaconda3/lib/python3.9/site-packages\r\n",
      "Requires: requests-oauthlib, requests\r\n",
      "Required-by: \r\n"
     ]
    }
   ],
   "source": [
    "!pip show tweepy"
   ]
  },
  {
   "cell_type": "code",
   "execution_count": null,
   "id": "89845061",
   "metadata": {},
   "outputs": [],
   "source": []
  },
  {
   "cell_type": "code",
   "execution_count": null,
   "id": "679f8a9f",
   "metadata": {},
   "outputs": [],
   "source": []
  }
 ],
 "metadata": {
  "kernelspec": {
   "display_name": "Python 3 (ipykernel)",
   "language": "python",
   "name": "python3"
  },
  "language_info": {
   "codemirror_mode": {
    "name": "ipython",
    "version": 3
   },
   "file_extension": ".py",
   "mimetype": "text/x-python",
   "name": "python",
   "nbconvert_exporter": "python",
   "pygments_lexer": "ipython3",
   "version": "3.9.7"
  }
 },
 "nbformat": 4,
 "nbformat_minor": 5
}
